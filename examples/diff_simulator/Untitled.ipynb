{
 "cells": [
  {
   "cell_type": "code",
   "execution_count": 5,
   "id": "cffdafe2",
   "metadata": {},
   "outputs": [],
   "source": [
    "import crocoddyl\n",
    "import numpy as np\n",
    "import example_robot_data\n",
    "talos_arm= example_robot_data.load('talos_arm')\n",
    "robot_model=talos_arm.model"
   ]
  },
  {
   "cell_type": "code",
   "execution_count": 6,
   "id": "ea10858c",
   "metadata": {},
   "outputs": [],
   "source": [
    "# Defining a initial state\n",
    "q0 = np.array([0.173046, 1., -0.52366, 0., 0., 0.1, -0.005])\n",
    "x0 = np.concatenate([q0, np.zeros(talos_arm.model.nv)])\n"
   ]
  },
  {
   "cell_type": "code",
   "execution_count": 7,
   "id": "c1a45b87",
   "metadata": {},
   "outputs": [],
   "source": [
    "import pinocchio\n",
    "\n",
    "\n",
    "class DifferentialFwdDynamics(crocoddyl.DifferentialActionModelAbstract):\n",
    "    def __init__(self, state, costModel):\n",
    "        crocoddyl.DifferentialActionModelAbstract.__init__(self, state, state.nv, costModel.nr)\n",
    "        self.costs = costModel\n",
    "        self.enable_force = True\n",
    "        self.armature = np.zeros(0)\n",
    "\n",
    "    def calc(self, data, x, u=None):\n",
    "        if u is None:\n",
    "            u = self.unone\n",
    "        q, v = x[:self.state.nq], x[-self.state.nv:]\n",
    "        # Computing the dynamics using ABA or manually for armature case\n",
    "        if self.enable_force:\n",
    "            data.xout = pinocchio.aba(self.state.pinocchio, data.pinocchio, q, v, u)\n",
    "        else:\n",
    "            pinocchio.computeAllTerms(self.state.pinocchio, data.pinocchio, q, v)\n",
    "            data.M = data.pinocchio.M\n",
    "            if self.armature.size == self.state.nv:\n",
    "                data.M[range(self.state.nv), range(self.state.nv)] += self.armature\n",
    "            data.Minv = np.linalg.inv(data.M)\n",
    "            data.xout = data.Minv * (u - data.pinocchio.nle)\n",
    "        # Computing the cost value and residuals\n",
    "        pinocchio.forwardKinematics(self.state.pinocchio, data.pinocchio, q, v)\n",
    "        pinocchio.updateFramePlacements(self.state.pinocchio, data.pinocchio)\n",
    "        self.costs.calc(data.costs, x, u)\n",
    "        data.cost = data.costs.cost\n",
    "\n",
    "    def calcDiff(self, data, x, u=None):\n",
    "        q, v = x[:self.state.nq], x[-self.state.nv:]\n",
    "        if u is None:\n",
    "            u = self.unone\n",
    "        if True:\n",
    "            self.calc(data, x, u)\n",
    "        # Computing the dynamics derivatives\n",
    "        if self.enable_force:\n",
    "            pinocchio.computeABADerivatives(self.state.pinocchio, data.pinocchio, q, v, u)\n",
    "            data.Fx = np.hstack([data.pinocchio.ddq_dq, data.pinocchio.ddq_dv])\n",
    "            data.Fu = data.pinocchio.Minv\n",
    "        else:\n",
    "            pinocchio.computeRNEADerivatives(self.state.pinocchio, data.pinocchio, q, v, data.xout)\n",
    "            data.Fx = -np.hstack([data.Minv * data.pinocchio.dtau_dq, data.Minv * data.pinocchio.dtau_dv])\n",
    "            data.Fu = data.Minv\n",
    "        # Computing the cost derivatives\n",
    "        self.costs.calcDiff(data.costs, x, u)\n",
    "\n",
    "    def set_armature(self, armature):\n",
    "        if armature.size is not self.state.nv:\n",
    "            print('The armature dimension is wrong, we cannot set it.')\n",
    "        else:\n",
    "            self.enable_force = False\n",
    "            self.armature = armature.T\n",
    "\n",
    "    def createData(self):\n",
    "        data = crocoddyl.DifferentialActionModelAbstract.createData(self)\n",
    "        data.pinocchio = pinocchio.Data(self.state.pinocchio)\n",
    "        data.multibody = crocoddyl.DataCollectorMultibody(data.pinocchio)\n",
    "        data.costs = self.costs.createData(data.multibody)\n",
    "        data.costs.shareMemory(data) # this allows us to share the memory of cost-terms of action model\n",
    "        return data\n"
   ]
  },
  {
   "cell_type": "code",
   "execution_count": 8,
   "id": "4d189a80",
   "metadata": {},
   "outputs": [],
   "source": [
    "# Create the cost functions\n",
    "target = np.array([0.4, 0., .4])\n",
    "state = crocoddyl.StateMultibody(robot_model)\n",
    "frameTranslationResidual = crocoddyl.ResidualModelFrameTranslation(state,\n",
    "                                            robot_model.getFrameId(\"gripper_left_joint\"),\n",
    "                                            target)\n",
    "goalTrackingCost = crocoddyl.CostModelResidual(state, frameTranslationResidual)\n",
    "xRegCost = crocoddyl.CostModelResidual(state, crocoddyl.ResidualModelState(state))\n",
    "uRegCost = crocoddyl.CostModelResidual(state, crocoddyl.ResidualModelControl(state))\n",
    "\n",
    "# Create cost model per each action model\n",
    "runningCostModel = crocoddyl.CostModelSum(state)\n",
    "terminalCostModel = crocoddyl.CostModelSum(state)\n",
    "\n",
    "# Then let's added the running and terminal cost functions\n",
    "runningCostModel.addCost(\"gripperPose\", goalTrackingCost, 1e2)\n",
    "runningCostModel.addCost(\"stateReg\", xRegCost, 1e-4)\n",
    "runningCostModel.addCost(\"ctrlReg\", uRegCost, 1e-7)\n",
    "terminalCostModel.addCost(\"gripperPose\", goalTrackingCost, 1e5)\n",
    "terminalCostModel.addCost(\"stateReg\", xRegCost, 1e-4)\n",
    "terminalCostModel.addCost(\"ctrlReg\", uRegCost, 1e-7)\n",
    "\n",
    "# Running and terminal action models\n",
    "DT = 1e-3\n",
    "actuationModel = crocoddyl.ActuationModelFull(state)\n",
    "runningModel = crocoddyl.IntegratedActionModelEuler(\n",
    "    crocoddyl.DifferentialActionModelFreeFwdDynamics(state, actuationModel, runningCostModel), DT)\n",
    "terminalModel = crocoddyl.IntegratedActionModelEuler(\n",
    "    crocoddyl.DifferentialActionModelFreeFwdDynamics(state, actuationModel, terminalCostModel), 0.)\n"
   ]
  },
  {
   "cell_type": "code",
   "execution_count": 10,
   "id": "e7ae3a48",
   "metadata": {},
   "outputs": [],
   "source": [
    "\n",
    "\n",
    "#We create a trajectory with 250 knots\n",
    "\n",
    "# For this optimal control problem, we define 250 knots (or running action\n",
    "# models) plus a terminal knot\n",
    "T = 250\n",
    "problem = crocoddyl.ShootingProblem(x0, [runningModel] * T, terminalModel)\n",
    "\n"
   ]
  },
  {
   "cell_type": "code",
   "execution_count": 16,
   "id": "cc9a6a5e",
   "metadata": {},
   "outputs": [
    {
     "name": "stdout",
     "output_type": "stream",
     "text": [
      "You can open the visualizer by visiting the following URL:\n",
      "http://127.0.0.1:7001/static/\n"
     ]
    }
   ],
   "source": [
    "# Creating the DDP solver for this OC problem, defining a logger\n",
    "ddp = crocoddyl.SolverDDP(problem)\n",
    "log = crocoddyl.CallbackLogger()\n",
    "\n",
    "# Using the meshcat displayer, you could enable gepetto viewer for nicer view\n",
    "# display = crocoddyl.GepettoDisplay(talos_arm, 4, 4)\n",
    "display = crocoddyl.MeshcatDisplay(talos_arm, 4, 4, False)\n",
    "ddp.setCallbacks([log,\n",
    "                  crocoddyl.CallbackVerbose(),\n",
    "                  crocoddyl.CallbackDisplay(display)])"
   ]
  },
  {
   "cell_type": "code",
   "execution_count": 17,
   "id": "8ee156fa",
   "metadata": {},
   "outputs": [
    {
     "data": {
      "text/html": [
       "\n",
       "            <div style=\"height: 400px; width: 100%; overflow-x: auto; overflow-y: hidden; resize: both\">\n",
       "            <iframe src=\"http://127.0.0.1:7001/static/\" style=\"width: 100%; height: 100%; border: none\"></iframe>\n",
       "            </div>\n",
       "            "
      ],
      "text/plain": [
       "<IPython.core.display.HTML object>"
      ]
     },
     "execution_count": 17,
     "metadata": {},
     "output_type": "execute_result"
    }
   ],
   "source": [
    "# Emdebbed meshcat in this cell\n",
    "display.robot.viewer.jupyter_cell()"
   ]
  },
  {
   "cell_type": "code",
   "execution_count": 18,
   "id": "c52a406b",
   "metadata": {},
   "outputs": [
    {
     "name": "stdout",
     "output_type": "stream",
     "text": [
      "iter     cost         stop         grad         xreg         ureg       step    ||ffeas||\n",
      "   0  6.00288e+04  7.91470e-02  1.20714e+05  1.00000e-08  1.00000e-08  0.0078  1.00000e+00\n",
      "   1  1.86695e+04  1.23794e-01  1.20048e+05  1.00000e-08  1.00000e-08  0.1250  0.00000e+00\n",
      "   2  1.78169e+04  1.83329e+00  3.73176e+04  1.00000e-08  1.00000e-08  0.0312  0.00000e+00\n",
      "   3  1.68568e+04  1.39142e+00  3.56111e+04  1.00000e-08  1.00000e-08  0.0625  0.00000e+00\n",
      "   4  1.64638e+04  1.04344e+00  3.36694e+04  1.00000e-08  1.00000e-08  0.0156  0.00000e+00\n",
      "   5  1.61065e+04  8.80911e-01  3.28675e+04  1.00000e-08  1.00000e-08  0.0156  0.00000e+00\n",
      "   6  1.57519e+04  7.82130e-01  3.21353e+04  1.00000e-08  1.00000e-08  0.0312  0.00000e+00\n",
      "   7  1.55007e+04  7.62760e-01  3.14227e+04  1.00000e-08  1.00000e-08  0.0156  0.00000e+00\n",
      "   8  1.54268e+04  7.93924e-01  3.09232e+04  1.00000e-08  1.00000e-08  0.0156  0.00000e+00\n",
      "   9  1.50970e+04  7.98627e-01  3.07918e+04  1.00000e-08  1.00000e-08  0.0312  0.00000e+00\n",
      "iter     cost         stop         grad         xreg         ureg       step    ||ffeas||\n",
      "  10  1.48522e+04  3.95324e-01  3.01468e+04  1.00000e-08  1.00000e-08  0.0156  0.00000e+00\n",
      "  11  1.46141e+04  2.17873e-01  2.96181e+04  1.00000e-08  1.00000e-08  0.0312  0.00000e+00\n",
      "  12  1.41662e+04  1.96040e-01  2.91401e+04  1.00000e-08  1.00000e-08  0.0312  0.00000e+00\n",
      "  13  1.31688e+04  2.57000e-01  2.82329e+04  1.00000e-08  1.00000e-08  0.0625  0.00000e+00\n",
      "  14  1.30687e+04  7.69260e-01  2.62795e+04  1.00000e-08  1.00000e-08  0.0312  0.00000e+00\n",
      "  15  1.30145e+04  9.69401e-01  2.60259e+04  1.00000e-07  1.00000e-07  0.0039  0.00000e+00\n",
      "  16  1.26786e+04  1.86997e+00  2.57296e+04  1.00000e-07  1.00000e-07  0.0312  0.00000e+00\n",
      "  17  8.44282e+03  1.72792e+00  2.50369e+04  1.00000e-07  1.00000e-07  0.0625  0.00000e+00\n",
      "  18  7.98233e+03  1.66727e+00  1.67890e+04  1.00000e-07  1.00000e-07  0.0625  0.00000e+00\n",
      "  19  7.16229e+03  2.30728e+00  1.58522e+04  1.00000e-07  1.00000e-07  0.0625  0.00000e+00\n",
      "iter     cost         stop         grad         xreg         ureg       step    ||ffeas||\n",
      "  20  6.93984e+03  1.48717e+00  1.42814e+04  1.00000e-07  1.00000e-07  0.0312  0.00000e+00\n",
      "  21  6.78416e+03  1.13833e+00  1.38357e+04  1.00000e-07  1.00000e-07  0.0156  0.00000e+00\n",
      "  22  6.60478e+03  9.59520e-01  1.35029e+04  1.00000e-07  1.00000e-07  0.0625  0.00000e+00\n",
      "  23  5.58166e+03  5.10060e-01  1.28856e+04  1.00000e-07  1.00000e-07  0.0312  0.00000e+00\n",
      "  24  5.38411e+03  4.20504e-01  1.07406e+04  1.00000e-07  1.00000e-07  0.0156  0.00000e+00\n",
      "  25  5.17718e+03  4.11458e-01  1.02839e+04  1.00000e-07  1.00000e-07  0.0156  0.00000e+00\n",
      "  26  2.81289e+03  3.88612e-01  9.81550e+03  1.00000e-07  1.00000e-07  0.0312  0.00000e+00\n",
      "  27  2.66131e+03  1.65402e+00  5.52200e+03  1.00000e-07  1.00000e-07  0.0312  0.00000e+00\n",
      "  28  2.62529e+03  1.43937e+00  5.22349e+03  1.00000e-07  1.00000e-07  0.0156  0.00000e+00\n",
      "  29  2.58741e+03  1.35480e+00  5.15571e+03  1.00000e-07  1.00000e-07  0.0156  0.00000e+00\n",
      "iter     cost         stop         grad         xreg         ureg       step    ||ffeas||\n",
      "  30  2.54364e+03  1.28418e+00  5.08420e+03  1.00000e-07  1.00000e-07  0.0156  0.00000e+00\n",
      "  31  2.50406e+03  1.22167e+00  5.00032e+03  1.00000e-07  1.00000e-07  0.0312  0.00000e+00\n",
      "  32  1.99270e+03  1.20851e+00  4.92801e+03  1.00000e-07  1.00000e-07  0.0625  0.00000e+00\n",
      "  33  1.11208e+03  1.02458e+00  3.92327e+03  1.00000e-07  1.00000e-07  0.1250  0.00000e+00\n",
      "  34  9.18613e+02  2.08894e-01  2.16136e+03  1.00000e-07  1.00000e-07  0.1250  0.00000e+00\n",
      "  35  8.29690e+02  1.10558e-01  1.76686e+03  1.00000e-07  1.00000e-07  0.0312  0.00000e+00\n",
      "  36  7.61742e+02  1.02220e-01  1.60131e+03  1.00000e-07  1.00000e-07  0.0312  0.00000e+00\n",
      "  37  7.44461e+02  9.89827e-02  1.47461e+03  1.00000e-07  1.00000e-07  0.0156  0.00000e+00\n",
      "  38  7.21581e+02  9.42142e-02  1.43393e+03  1.00000e-07  1.00000e-07  0.0312  0.00000e+00\n",
      "  39  6.77339e+02  8.89795e-02  1.38581e+03  1.00000e-07  1.00000e-07  0.0312  0.00000e+00\n",
      "iter     cost         stop         grad         xreg         ureg       step    ||ffeas||\n",
      "  40  6.39382e+02  7.67213e-02  1.29637e+03  1.00000e-07  1.00000e-07  0.0312  0.00000e+00\n",
      "  41  6.07370e+02  6.99716e-02  1.22369e+03  1.00000e-07  1.00000e-07  0.0312  0.00000e+00\n",
      "  42  5.78863e+02  6.66819e-02  1.16430e+03  1.00000e-07  1.00000e-07  0.0312  0.00000e+00\n",
      "  43  5.58926e+02  6.50552e-02  1.10927e+03  1.00000e-07  1.00000e-07  0.0625  0.00000e+00\n",
      "  44  4.96707e+02  6.92353e-02  1.06606e+03  1.00000e-07  1.00000e-07  0.0625  0.00000e+00\n",
      "  45  4.73566e+02  4.89270e-02  9.32567e+02  1.00000e-07  1.00000e-07  0.0312  0.00000e+00\n",
      "  46  4.55269e+02  3.84984e-02  8.80770e+02  1.00000e-07  1.00000e-07  0.0312  0.00000e+00\n",
      "  47  4.43235e+02  3.07462e-02  8.42371e+02  1.00000e-07  1.00000e-07  0.0312  0.00000e+00\n",
      "  48  4.39305e+02  2.57651e-02  8.18590e+02  1.00000e-07  1.00000e-07  0.0312  0.00000e+00\n",
      "  49  4.33783e+02  2.46085e-02  8.01962e+02  1.00000e-07  1.00000e-07  0.0156  0.00000e+00\n",
      "iter     cost         stop         grad         xreg         ureg       step    ||ffeas||\n",
      "  50  4.20923e+02  2.25067e-02  7.75919e+02  1.00000e-07  1.00000e-07  0.0312  0.00000e+00\n",
      "  51  3.24604e+02  1.87739e-02  7.31378e+02  1.00000e-07  1.00000e-07  0.1250  0.00000e+00\n",
      "  52  3.05200e+02  1.47552e-02  5.60683e+02  1.00000e-07  1.00000e-07  0.0312  0.00000e+00\n",
      "  53  2.88086e+02  1.73583e-02  5.13256e+02  1.00000e-07  1.00000e-07  0.0312  0.00000e+00\n",
      "  54  2.65751e+02  1.18325e-02  4.73198e+02  1.00000e-07  1.00000e-07  0.0312  0.00000e+00\n",
      "  55  2.49515e+02  7.31174e-03  4.30286e+02  1.00000e-07  1.00000e-07  0.0312  0.00000e+00\n",
      "  56  2.35890e+02  6.74120e-03  4.02884e+02  1.00000e-07  1.00000e-07  0.0312  0.00000e+00\n",
      "  57  2.27809e+02  6.69485e-03  3.81531e+02  1.00000e-07  1.00000e-07  0.0312  0.00000e+00\n",
      "  58  2.22999e+02  7.38173e-03  3.73480e+02  1.00000e-07  1.00000e-07  0.0156  0.00000e+00\n",
      "  59  2.18597e+02  7.26488e-03  3.64636e+02  1.00000e-07  1.00000e-07  0.0156  0.00000e+00\n",
      "iter     cost         stop         grad         xreg         ureg       step    ||ffeas||\n",
      "  60  2.14537e+02  7.25968e-03  3.56834e+02  1.00000e-07  1.00000e-07  0.0156  0.00000e+00\n",
      "  61  2.10765e+02  7.36417e-03  3.49636e+02  1.00000e-07  1.00000e-07  0.0156  0.00000e+00\n",
      "  62  2.07249e+02  7.58025e-03  3.42838e+02  1.00000e-07  1.00000e-07  0.0156  0.00000e+00\n",
      "  63  2.03985e+02  7.91353e-03  3.36353e+02  1.00000e-07  1.00000e-07  0.0156  0.00000e+00\n",
      "  64  2.00988e+02  8.38378e-03  3.30144e+02  1.00000e-07  1.00000e-07  0.0156  0.00000e+00\n",
      "  65  1.98277e+02  9.02653e-03  3.24179e+02  1.00000e-07  1.00000e-07  0.0156  0.00000e+00\n",
      "  66  1.95844e+02  9.87974e-03  3.18406e+02  1.00000e-07  1.00000e-07  0.0156  0.00000e+00\n",
      "  67  1.93642e+02  1.09637e-02  3.12752e+02  1.00000e-07  1.00000e-07  0.0156  0.00000e+00\n",
      "  68  1.91586e+02  1.22661e-02  3.07136e+02  1.00000e-07  1.00000e-07  0.0156  0.00000e+00\n",
      "  69  1.89581e+02  1.37368e-02  3.01488e+02  1.00000e-07  1.00000e-07  0.0156  0.00000e+00\n",
      "iter     cost         stop         grad         xreg         ureg       step    ||ffeas||\n",
      "  70  1.87550e+02  1.52933e-02  2.95773e+02  1.00000e-07  1.00000e-07  0.0156  0.00000e+00\n",
      "  71  1.85444e+02  1.68321e-02  2.90009e+02  1.00000e-07  1.00000e-07  0.0156  0.00000e+00\n",
      "  72  1.83244e+02  1.82483e-02  2.84256e+02  1.00000e-07  1.00000e-07  0.0156  0.00000e+00\n",
      "  73  1.80938e+02  1.94546e-02  2.78604e+02  1.00000e-07  1.00000e-07  0.0156  0.00000e+00\n",
      "  74  1.78507e+02  2.03953e-02  2.73145e+02  1.00000e-07  1.00000e-07  0.0156  0.00000e+00\n",
      "  75  1.75930e+02  2.10475e-02  2.67953e+02  1.00000e-07  1.00000e-07  0.0156  0.00000e+00\n",
      "  76  1.74595e+02  2.14142e-02  2.63068e+02  1.00000e-07  1.00000e-07  0.0312  0.00000e+00\n",
      "  77  1.70984e+02  2.27676e-02  2.62523e+02  1.00000e-07  1.00000e-07  0.0312  0.00000e+00\n",
      "  78  1.66649e+02  2.27343e-02  2.60145e+02  1.00000e-07  1.00000e-07  0.0312  0.00000e+00\n",
      "  79  1.63791e+02  2.21158e-02  2.58609e+02  1.00000e-07  1.00000e-07  0.0312  0.00000e+00\n",
      "iter     cost         stop         grad         xreg         ureg       step    ||ffeas||\n",
      "  80  1.60815e+02  2.20041e-02  2.60127e+02  1.00000e-07  1.00000e-07  0.0156  0.00000e+00\n",
      "  81  1.58078e+02  2.15356e-02  2.55893e+02  1.00000e-07  1.00000e-07  0.0156  0.00000e+00\n",
      "  82  1.55607e+02  2.12306e-02  2.52447e+02  1.00000e-07  1.00000e-07  0.0156  0.00000e+00\n",
      "  83  1.53353e+02  2.11585e-02  2.49883e+02  1.00000e-07  1.00000e-07  0.0156  0.00000e+00\n",
      "  84  1.50908e+02  2.13909e-02  2.44143e+02  1.00000e-07  1.00000e-07  0.0156  0.00000e+00\n"
     ]
    },
    {
     "name": "stdout",
     "output_type": "stream",
     "text": [
      "  85  1.45294e+02  2.15397e-02  2.22739e+02  1.00000e-07  1.00000e-07  0.0312  0.00000e+00\n",
      "  86  1.41108e+02  2.03637e-02  2.07700e+02  1.00000e-07  1.00000e-07  0.0312  0.00000e+00\n",
      "  87  1.13974e+02  1.99193e-02  1.98222e+02  1.00000e-07  1.00000e-07  0.1250  0.00000e+00\n",
      "  88  1.06520e+02  1.23865e-02  1.64270e+02  1.00000e-07  1.00000e-07  0.0625  0.00000e+00\n",
      "  89  1.05463e+02  1.40823e-02  1.66343e+02  1.00000e-07  1.00000e-07  0.0312  0.00000e+00\n",
      "iter     cost         stop         grad         xreg         ureg       step    ||ffeas||\n",
      "  90  1.04397e+02  1.50242e-02  1.65994e+02  1.00000e-07  1.00000e-07  0.0312  0.00000e+00\n",
      "  91  1.03597e+02  1.62696e-02  1.64874e+02  1.00000e-07  1.00000e-07  0.0312  0.00000e+00\n",
      "  92  1.02659e+02  1.75617e-02  1.64789e+02  1.00000e-07  1.00000e-07  0.0312  0.00000e+00\n",
      "  93  1.01809e+02  1.90199e-02  1.63762e+02  1.00000e-07  1.00000e-07  0.0312  0.00000e+00\n",
      "  94  1.00441e+02  2.05520e-02  1.62396e+02  1.00000e-07  1.00000e-07  0.0312  0.00000e+00\n",
      "  95  9.89693e+01  2.20032e-02  1.59371e+02  1.00000e-07  1.00000e-07  0.0312  0.00000e+00\n",
      "  96  9.72505e+01  2.34314e-02  1.55930e+02  1.00000e-07  1.00000e-07  0.0312  0.00000e+00\n",
      "  97  9.54356e+01  2.47732e-02  1.51761e+02  1.00000e-07  1.00000e-07  0.0312  0.00000e+00\n",
      "  98  9.35240e+01  2.60172e-02  1.47302e+02  1.00000e-07  1.00000e-07  0.0312  0.00000e+00\n",
      "  99  9.15520e+01  2.71220e-02  1.42574e+02  1.00000e-07  1.00000e-07  0.0312  0.00000e+00\n"
     ]
    }
   ],
   "source": [
    "# Solving it with the DDP algorithm\n",
    "ddp.solve()\n",
    "\n",
    "# Printing the reached position\n",
    "frame_idx = talos_arm.model.getFrameId(\"gripper_left_joint\")\n",
    "xT = ddp.xs[-1]\n",
    "qT = xT[:talos_arm.model.nq]\n",
    "# \\\n",
    "\n"
   ]
  },
  {
   "cell_type": "code",
   "execution_count": 15,
   "id": "b1d066f4",
   "metadata": {},
   "outputs": [
    {
     "ename": "AttributeError",
     "evalue": "module 'numpy' has no attribute 'asscalar'",
     "output_type": "error",
     "traceback": [
      "\u001b[0;31m---------------------------------------------------------------------------\u001b[0m",
      "\u001b[0;31mAttributeError\u001b[0m                            Traceback (most recent call last)",
      "\u001b[0;32m/tmp/ipykernel_974036/3088847924.py\u001b[0m in \u001b[0;36m<cell line: 3>\u001b[0;34m()\u001b[0m\n\u001b[1;32m      1\u001b[0m \u001b[0mget_ipython\u001b[0m\u001b[0;34m(\u001b[0m\u001b[0;34m)\u001b[0m\u001b[0;34m.\u001b[0m\u001b[0mrun_line_magic\u001b[0m\u001b[0;34m(\u001b[0m\u001b[0;34m'matplotlib'\u001b[0m\u001b[0;34m,\u001b[0m \u001b[0;34m'inline'\u001b[0m\u001b[0;34m)\u001b[0m\u001b[0;34m\u001b[0m\u001b[0;34m\u001b[0m\u001b[0m\n\u001b[1;32m      2\u001b[0m \u001b[0;31m# # Plotting the solution and the DDP convergence\u001b[0m\u001b[0;34m\u001b[0m\u001b[0;34m\u001b[0m\u001b[0;34m\u001b[0m\u001b[0m\n\u001b[0;32m----> 3\u001b[0;31m \u001b[0mcrocoddyl\u001b[0m\u001b[0;34m.\u001b[0m\u001b[0mplotOCSolution\u001b[0m\u001b[0;34m(\u001b[0m\u001b[0mlog\u001b[0m\u001b[0;34m.\u001b[0m\u001b[0mxs\u001b[0m\u001b[0;34m,\u001b[0m \u001b[0mlog\u001b[0m\u001b[0;34m.\u001b[0m\u001b[0mus\u001b[0m\u001b[0;34m)\u001b[0m\u001b[0;34m\u001b[0m\u001b[0;34m\u001b[0m\u001b[0m\n\u001b[0m\u001b[1;32m      4\u001b[0m \u001b[0mcrocoddyl\u001b[0m\u001b[0;34m.\u001b[0m\u001b[0mplotConvergence\u001b[0m\u001b[0;34m(\u001b[0m\u001b[0mlog\u001b[0m\u001b[0;34m.\u001b[0m\u001b[0mcosts\u001b[0m\u001b[0;34m,\u001b[0m \u001b[0mlog\u001b[0m\u001b[0;34m.\u001b[0m\u001b[0mu_regs\u001b[0m\u001b[0;34m,\u001b[0m \u001b[0mlog\u001b[0m\u001b[0;34m.\u001b[0m\u001b[0mx_regs\u001b[0m\u001b[0;34m,\u001b[0m \u001b[0mlog\u001b[0m\u001b[0;34m.\u001b[0m\u001b[0mgrads\u001b[0m\u001b[0;34m,\u001b[0m \u001b[0mlog\u001b[0m\u001b[0;34m.\u001b[0m\u001b[0mstops\u001b[0m\u001b[0;34m,\u001b[0m \u001b[0mlog\u001b[0m\u001b[0;34m.\u001b[0m\u001b[0msteps\u001b[0m\u001b[0;34m)\u001b[0m\u001b[0;34m\u001b[0m\u001b[0;34m\u001b[0m\u001b[0m\n\u001b[1;32m      5\u001b[0m \u001b[0;34m\u001b[0m\u001b[0m\n",
      "\u001b[0;32m/opt/openrobots/lib/python3.8/site-packages/crocoddyl/__init__.py\u001b[0m in \u001b[0;36mplotOCSolution\u001b[0;34m(xs, us, figIndex, show, figTitle)\u001b[0m\n\u001b[1;32m    418\u001b[0m         \u001b[0mX\u001b[0m \u001b[0;34m=\u001b[0m \u001b[0;34m[\u001b[0m\u001b[0;36m0.\u001b[0m\u001b[0;34m]\u001b[0m \u001b[0;34m*\u001b[0m \u001b[0mnx\u001b[0m\u001b[0;34m\u001b[0m\u001b[0;34m\u001b[0m\u001b[0m\n\u001b[1;32m    419\u001b[0m         \u001b[0;32mfor\u001b[0m \u001b[0mi\u001b[0m \u001b[0;32min\u001b[0m \u001b[0mrange\u001b[0m\u001b[0;34m(\u001b[0m\u001b[0mnx\u001b[0m\u001b[0;34m)\u001b[0m\u001b[0;34m:\u001b[0m\u001b[0;34m\u001b[0m\u001b[0;34m\u001b[0m\u001b[0m\n\u001b[0;32m--> 420\u001b[0;31m             \u001b[0mX\u001b[0m\u001b[0;34m[\u001b[0m\u001b[0mi\u001b[0m\u001b[0;34m]\u001b[0m \u001b[0;34m=\u001b[0m \u001b[0;34m[\u001b[0m\u001b[0mnp\u001b[0m\u001b[0;34m.\u001b[0m\u001b[0masscalar\u001b[0m\u001b[0;34m(\u001b[0m\u001b[0mx\u001b[0m\u001b[0;34m[\u001b[0m\u001b[0mi\u001b[0m\u001b[0;34m]\u001b[0m\u001b[0;34m)\u001b[0m \u001b[0;32mfor\u001b[0m \u001b[0mx\u001b[0m \u001b[0;32min\u001b[0m \u001b[0mxs\u001b[0m\u001b[0;34m]\u001b[0m\u001b[0;34m\u001b[0m\u001b[0;34m\u001b[0m\u001b[0m\n\u001b[0m\u001b[1;32m    421\u001b[0m     \u001b[0;32mif\u001b[0m \u001b[0mus\u001b[0m \u001b[0;32mis\u001b[0m \u001b[0;32mnot\u001b[0m \u001b[0;32mNone\u001b[0m\u001b[0;34m:\u001b[0m\u001b[0;34m\u001b[0m\u001b[0;34m\u001b[0m\u001b[0m\n\u001b[1;32m    422\u001b[0m         \u001b[0musPlotIdx\u001b[0m \u001b[0;34m=\u001b[0m \u001b[0;36m111\u001b[0m\u001b[0;34m\u001b[0m\u001b[0;34m\u001b[0m\u001b[0m\n",
      "\u001b[0;32m/opt/openrobots/lib/python3.8/site-packages/crocoddyl/__init__.py\u001b[0m in \u001b[0;36m<listcomp>\u001b[0;34m(.0)\u001b[0m\n\u001b[1;32m    418\u001b[0m         \u001b[0mX\u001b[0m \u001b[0;34m=\u001b[0m \u001b[0;34m[\u001b[0m\u001b[0;36m0.\u001b[0m\u001b[0;34m]\u001b[0m \u001b[0;34m*\u001b[0m \u001b[0mnx\u001b[0m\u001b[0;34m\u001b[0m\u001b[0;34m\u001b[0m\u001b[0m\n\u001b[1;32m    419\u001b[0m         \u001b[0;32mfor\u001b[0m \u001b[0mi\u001b[0m \u001b[0;32min\u001b[0m \u001b[0mrange\u001b[0m\u001b[0;34m(\u001b[0m\u001b[0mnx\u001b[0m\u001b[0;34m)\u001b[0m\u001b[0;34m:\u001b[0m\u001b[0;34m\u001b[0m\u001b[0;34m\u001b[0m\u001b[0m\n\u001b[0;32m--> 420\u001b[0;31m             \u001b[0mX\u001b[0m\u001b[0;34m[\u001b[0m\u001b[0mi\u001b[0m\u001b[0;34m]\u001b[0m \u001b[0;34m=\u001b[0m \u001b[0;34m[\u001b[0m\u001b[0mnp\u001b[0m\u001b[0;34m.\u001b[0m\u001b[0masscalar\u001b[0m\u001b[0;34m(\u001b[0m\u001b[0mx\u001b[0m\u001b[0;34m[\u001b[0m\u001b[0mi\u001b[0m\u001b[0;34m]\u001b[0m\u001b[0;34m)\u001b[0m \u001b[0;32mfor\u001b[0m \u001b[0mx\u001b[0m \u001b[0;32min\u001b[0m \u001b[0mxs\u001b[0m\u001b[0;34m]\u001b[0m\u001b[0;34m\u001b[0m\u001b[0;34m\u001b[0m\u001b[0m\n\u001b[0m\u001b[1;32m    421\u001b[0m     \u001b[0;32mif\u001b[0m \u001b[0mus\u001b[0m \u001b[0;32mis\u001b[0m \u001b[0;32mnot\u001b[0m \u001b[0;32mNone\u001b[0m\u001b[0;34m:\u001b[0m\u001b[0;34m\u001b[0m\u001b[0;34m\u001b[0m\u001b[0m\n\u001b[1;32m    422\u001b[0m         \u001b[0musPlotIdx\u001b[0m \u001b[0;34m=\u001b[0m \u001b[0;36m111\u001b[0m\u001b[0;34m\u001b[0m\u001b[0;34m\u001b[0m\u001b[0m\n",
      "\u001b[0;32m/usr/local/lib/python3.8/dist-packages/numpy/__init__.py\u001b[0m in \u001b[0;36m__getattr__\u001b[0;34m(attr)\u001b[0m\n\u001b[1;32m    318\u001b[0m             \u001b[0;32mreturn\u001b[0m \u001b[0mTester\u001b[0m\u001b[0;34m\u001b[0m\u001b[0;34m\u001b[0m\u001b[0m\n\u001b[1;32m    319\u001b[0m \u001b[0;34m\u001b[0m\u001b[0m\n\u001b[0;32m--> 320\u001b[0;31m         raise AttributeError(\"module {!r} has no attribute \"\n\u001b[0m\u001b[1;32m    321\u001b[0m                              \"{!r}\".format(__name__, attr))\n\u001b[1;32m    322\u001b[0m \u001b[0;34m\u001b[0m\u001b[0m\n",
      "\u001b[0;31mAttributeError\u001b[0m: module 'numpy' has no attribute 'asscalar'"
     ]
    }
   ],
   "source": [
    "%matplotlib inline\n",
    "# # Plotting the solution and the DDP convergence\n",
    "crocoddyl.plotOCSolution(log.xs, log.us)\n",
    "crocoddyl.plotConvergence(log.costs, log.u_regs, log.x_regs, log.grads, log.stops, log.steps)\n",
    "\n",
    "# Visualizing the solution in gepetto-viewer\n",
    "display.displayFromSolver(ddp)\n"
   ]
  },
  {
   "cell_type": "code",
   "execution_count": null,
   "id": "85a39813",
   "metadata": {},
   "outputs": [],
   "source": []
  }
 ],
 "metadata": {
  "kernelspec": {
   "display_name": "Python 3 (ipykernel)",
   "language": "python",
   "name": "python3"
  },
  "language_info": {
   "codemirror_mode": {
    "name": "ipython",
    "version": 3
   },
   "file_extension": ".py",
   "mimetype": "text/x-python",
   "name": "python",
   "nbconvert_exporter": "python",
   "pygments_lexer": "ipython3",
   "version": "3.8.10"
  }
 },
 "nbformat": 4,
 "nbformat_minor": 5
}
